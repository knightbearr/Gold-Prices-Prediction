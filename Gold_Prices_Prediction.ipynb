{
  "nbformat": 4,
  "nbformat_minor": 0,
  "metadata": {
    "colab": {
      "name": "Gold-Prices-Prediction.ipynb",
      "provenance": [],
      "collapsed_sections": [
        "jPQGvAk6DTLP",
        "9WZtaNP2EPDm",
        "43vkBcTRHZTI",
        "xxW96fe7KKqq",
        "Q-eJaLs3-_5x",
        "VB3A93FCAcHI",
        "f2zziexKK1Tp",
        "unGSxf4gCA_U"
      ]
    },
    "kernelspec": {
      "name": "python3",
      "display_name": "Python 3"
    },
    "language_info": {
      "name": "python"
    }
  },
  "cells": [
    {
      "cell_type": "markdown",
      "metadata": {
        "id": "Yh_wWfslCKbY"
      },
      "source": [
        "# **Workflow**\n",
        "\n",
        "1. We will using Gold Price Data for this project.\n",
        "2. And we will Pre Processing the data.\n",
        "3. And Analyst the data.\n",
        "4. Train Test Split the data using sklearn model selection.\n",
        "5. And we will using Random Forest Regressor model for this project.\n",
        "6. Last we will evaluate the project and Predict the Prices."
      ]
    },
    {
      "cell_type": "markdown",
      "metadata": {
        "id": "jPQGvAk6DTLP"
      },
      "source": [
        "## **Import the important libraries for this research**"
      ]
    },
    {
      "cell_type": "code",
      "metadata": {
        "id": "xSDCwhBXCDGA"
      },
      "source": [
        "import pandas as pd\n",
        "import numpy as np\n",
        "import matplotlib.pyplot as plt\n",
        "import seaborn as sns\n",
        "from sklearn.model_selection import train_test_split\n",
        "from sklearn.ensemble import RandomForestRegressor\n",
        "from sklearn import metrics"
      ],
      "execution_count": 2,
      "outputs": []
    },
    {
      "cell_type": "markdown",
      "metadata": {
        "id": "9WZtaNP2EPDm"
      },
      "source": [
        "## **Data Collecting and Checking The Data**"
      ]
    },
    {
      "cell_type": "code",
      "metadata": {
        "id": "eb_NrR4nD55g"
      },
      "source": [
        "# load dataset to a pandas DataaFrame\n",
        "gold_data = pd.read_csv('/content/gld_price_data.csv')"
      ],
      "execution_count": 4,
      "outputs": []
    },
    {
      "cell_type": "code",
      "metadata": {
        "colab": {
          "base_uri": "https://localhost:8080/",
          "height": 204
        },
        "id": "_1Jv3-feElDU",
        "outputId": "9ae71ad5-de2f-4567-d55d-690e14455ac1"
      },
      "source": [
        "# print first 5 rows of the data frame\n",
        "gold_data.head()"
      ],
      "execution_count": 5,
      "outputs": [
        {
          "output_type": "execute_result",
          "data": {
            "text/html": [
              "<div>\n",
              "<style scoped>\n",
              "    .dataframe tbody tr th:only-of-type {\n",
              "        vertical-align: middle;\n",
              "    }\n",
              "\n",
              "    .dataframe tbody tr th {\n",
              "        vertical-align: top;\n",
              "    }\n",
              "\n",
              "    .dataframe thead th {\n",
              "        text-align: right;\n",
              "    }\n",
              "</style>\n",
              "<table border=\"1\" class=\"dataframe\">\n",
              "  <thead>\n",
              "    <tr style=\"text-align: right;\">\n",
              "      <th></th>\n",
              "      <th>Date</th>\n",
              "      <th>SPX</th>\n",
              "      <th>GLD</th>\n",
              "      <th>USO</th>\n",
              "      <th>SLV</th>\n",
              "      <th>EUR/USD</th>\n",
              "    </tr>\n",
              "  </thead>\n",
              "  <tbody>\n",
              "    <tr>\n",
              "      <th>0</th>\n",
              "      <td>1/2/2008</td>\n",
              "      <td>1447.160034</td>\n",
              "      <td>84.860001</td>\n",
              "      <td>78.470001</td>\n",
              "      <td>15.180</td>\n",
              "      <td>1.471692</td>\n",
              "    </tr>\n",
              "    <tr>\n",
              "      <th>1</th>\n",
              "      <td>1/3/2008</td>\n",
              "      <td>1447.160034</td>\n",
              "      <td>85.570000</td>\n",
              "      <td>78.370003</td>\n",
              "      <td>15.285</td>\n",
              "      <td>1.474491</td>\n",
              "    </tr>\n",
              "    <tr>\n",
              "      <th>2</th>\n",
              "      <td>1/4/2008</td>\n",
              "      <td>1411.630005</td>\n",
              "      <td>85.129997</td>\n",
              "      <td>77.309998</td>\n",
              "      <td>15.167</td>\n",
              "      <td>1.475492</td>\n",
              "    </tr>\n",
              "    <tr>\n",
              "      <th>3</th>\n",
              "      <td>1/7/2008</td>\n",
              "      <td>1416.180054</td>\n",
              "      <td>84.769997</td>\n",
              "      <td>75.500000</td>\n",
              "      <td>15.053</td>\n",
              "      <td>1.468299</td>\n",
              "    </tr>\n",
              "    <tr>\n",
              "      <th>4</th>\n",
              "      <td>1/8/2008</td>\n",
              "      <td>1390.189941</td>\n",
              "      <td>86.779999</td>\n",
              "      <td>76.059998</td>\n",
              "      <td>15.590</td>\n",
              "      <td>1.557099</td>\n",
              "    </tr>\n",
              "  </tbody>\n",
              "</table>\n",
              "</div>"
            ],
            "text/plain": [
              "       Date          SPX        GLD        USO     SLV   EUR/USD\n",
              "0  1/2/2008  1447.160034  84.860001  78.470001  15.180  1.471692\n",
              "1  1/3/2008  1447.160034  85.570000  78.370003  15.285  1.474491\n",
              "2  1/4/2008  1411.630005  85.129997  77.309998  15.167  1.475492\n",
              "3  1/7/2008  1416.180054  84.769997  75.500000  15.053  1.468299\n",
              "4  1/8/2008  1390.189941  86.779999  76.059998  15.590  1.557099"
            ]
          },
          "metadata": {
            "tags": []
          },
          "execution_count": 5
        }
      ]
    },
    {
      "cell_type": "code",
      "metadata": {
        "colab": {
          "base_uri": "https://localhost:8080/",
          "height": 204
        },
        "id": "psaTdA9YEsED",
        "outputId": "a19b3a25-e106-43e6-f238-18bbe53e0ad3"
      },
      "source": [
        "# print last 5 rows of the data frame\n",
        "gold_data.tail()"
      ],
      "execution_count": 6,
      "outputs": [
        {
          "output_type": "execute_result",
          "data": {
            "text/html": [
              "<div>\n",
              "<style scoped>\n",
              "    .dataframe tbody tr th:only-of-type {\n",
              "        vertical-align: middle;\n",
              "    }\n",
              "\n",
              "    .dataframe tbody tr th {\n",
              "        vertical-align: top;\n",
              "    }\n",
              "\n",
              "    .dataframe thead th {\n",
              "        text-align: right;\n",
              "    }\n",
              "</style>\n",
              "<table border=\"1\" class=\"dataframe\">\n",
              "  <thead>\n",
              "    <tr style=\"text-align: right;\">\n",
              "      <th></th>\n",
              "      <th>Date</th>\n",
              "      <th>SPX</th>\n",
              "      <th>GLD</th>\n",
              "      <th>USO</th>\n",
              "      <th>SLV</th>\n",
              "      <th>EUR/USD</th>\n",
              "    </tr>\n",
              "  </thead>\n",
              "  <tbody>\n",
              "    <tr>\n",
              "      <th>2285</th>\n",
              "      <td>5/8/2018</td>\n",
              "      <td>2671.919922</td>\n",
              "      <td>124.589996</td>\n",
              "      <td>14.0600</td>\n",
              "      <td>15.5100</td>\n",
              "      <td>1.186789</td>\n",
              "    </tr>\n",
              "    <tr>\n",
              "      <th>2286</th>\n",
              "      <td>5/9/2018</td>\n",
              "      <td>2697.790039</td>\n",
              "      <td>124.330002</td>\n",
              "      <td>14.3700</td>\n",
              "      <td>15.5300</td>\n",
              "      <td>1.184722</td>\n",
              "    </tr>\n",
              "    <tr>\n",
              "      <th>2287</th>\n",
              "      <td>5/10/2018</td>\n",
              "      <td>2723.070068</td>\n",
              "      <td>125.180000</td>\n",
              "      <td>14.4100</td>\n",
              "      <td>15.7400</td>\n",
              "      <td>1.191753</td>\n",
              "    </tr>\n",
              "    <tr>\n",
              "      <th>2288</th>\n",
              "      <td>5/14/2018</td>\n",
              "      <td>2730.129883</td>\n",
              "      <td>124.489998</td>\n",
              "      <td>14.3800</td>\n",
              "      <td>15.5600</td>\n",
              "      <td>1.193118</td>\n",
              "    </tr>\n",
              "    <tr>\n",
              "      <th>2289</th>\n",
              "      <td>5/16/2018</td>\n",
              "      <td>2725.780029</td>\n",
              "      <td>122.543800</td>\n",
              "      <td>14.4058</td>\n",
              "      <td>15.4542</td>\n",
              "      <td>1.182033</td>\n",
              "    </tr>\n",
              "  </tbody>\n",
              "</table>\n",
              "</div>"
            ],
            "text/plain": [
              "           Date          SPX         GLD      USO      SLV   EUR/USD\n",
              "2285   5/8/2018  2671.919922  124.589996  14.0600  15.5100  1.186789\n",
              "2286   5/9/2018  2697.790039  124.330002  14.3700  15.5300  1.184722\n",
              "2287  5/10/2018  2723.070068  125.180000  14.4100  15.7400  1.191753\n",
              "2288  5/14/2018  2730.129883  124.489998  14.3800  15.5600  1.193118\n",
              "2289  5/16/2018  2725.780029  122.543800  14.4058  15.4542  1.182033"
            ]
          },
          "metadata": {
            "tags": []
          },
          "execution_count": 6
        }
      ]
    },
    {
      "cell_type": "code",
      "metadata": {
        "colab": {
          "base_uri": "https://localhost:8080/",
          "height": 297
        },
        "id": "QAWdNnUWFV00",
        "outputId": "15b51206-0185-4a94-aa8f-09c42bb6fe4c"
      },
      "source": [
        "# print the statistical measures of the data\n",
        "gold_data.describe()"
      ],
      "execution_count": 11,
      "outputs": [
        {
          "output_type": "execute_result",
          "data": {
            "text/html": [
              "<div>\n",
              "<style scoped>\n",
              "    .dataframe tbody tr th:only-of-type {\n",
              "        vertical-align: middle;\n",
              "    }\n",
              "\n",
              "    .dataframe tbody tr th {\n",
              "        vertical-align: top;\n",
              "    }\n",
              "\n",
              "    .dataframe thead th {\n",
              "        text-align: right;\n",
              "    }\n",
              "</style>\n",
              "<table border=\"1\" class=\"dataframe\">\n",
              "  <thead>\n",
              "    <tr style=\"text-align: right;\">\n",
              "      <th></th>\n",
              "      <th>SPX</th>\n",
              "      <th>GLD</th>\n",
              "      <th>USO</th>\n",
              "      <th>SLV</th>\n",
              "      <th>EUR/USD</th>\n",
              "    </tr>\n",
              "  </thead>\n",
              "  <tbody>\n",
              "    <tr>\n",
              "      <th>count</th>\n",
              "      <td>2290.000000</td>\n",
              "      <td>2290.000000</td>\n",
              "      <td>2290.000000</td>\n",
              "      <td>2290.000000</td>\n",
              "      <td>2290.000000</td>\n",
              "    </tr>\n",
              "    <tr>\n",
              "      <th>mean</th>\n",
              "      <td>1654.315776</td>\n",
              "      <td>122.732875</td>\n",
              "      <td>31.842221</td>\n",
              "      <td>20.084997</td>\n",
              "      <td>1.283653</td>\n",
              "    </tr>\n",
              "    <tr>\n",
              "      <th>std</th>\n",
              "      <td>519.111540</td>\n",
              "      <td>23.283346</td>\n",
              "      <td>19.523517</td>\n",
              "      <td>7.092566</td>\n",
              "      <td>0.131547</td>\n",
              "    </tr>\n",
              "    <tr>\n",
              "      <th>min</th>\n",
              "      <td>676.530029</td>\n",
              "      <td>70.000000</td>\n",
              "      <td>7.960000</td>\n",
              "      <td>8.850000</td>\n",
              "      <td>1.039047</td>\n",
              "    </tr>\n",
              "    <tr>\n",
              "      <th>25%</th>\n",
              "      <td>1239.874969</td>\n",
              "      <td>109.725000</td>\n",
              "      <td>14.380000</td>\n",
              "      <td>15.570000</td>\n",
              "      <td>1.171313</td>\n",
              "    </tr>\n",
              "    <tr>\n",
              "      <th>50%</th>\n",
              "      <td>1551.434998</td>\n",
              "      <td>120.580002</td>\n",
              "      <td>33.869999</td>\n",
              "      <td>17.268500</td>\n",
              "      <td>1.303296</td>\n",
              "    </tr>\n",
              "    <tr>\n",
              "      <th>75%</th>\n",
              "      <td>2073.010070</td>\n",
              "      <td>132.840004</td>\n",
              "      <td>37.827501</td>\n",
              "      <td>22.882499</td>\n",
              "      <td>1.369971</td>\n",
              "    </tr>\n",
              "    <tr>\n",
              "      <th>max</th>\n",
              "      <td>2872.870117</td>\n",
              "      <td>184.589996</td>\n",
              "      <td>117.480003</td>\n",
              "      <td>47.259998</td>\n",
              "      <td>1.598798</td>\n",
              "    </tr>\n",
              "  </tbody>\n",
              "</table>\n",
              "</div>"
            ],
            "text/plain": [
              "               SPX          GLD          USO          SLV      EUR/USD\n",
              "count  2290.000000  2290.000000  2290.000000  2290.000000  2290.000000\n",
              "mean   1654.315776   122.732875    31.842221    20.084997     1.283653\n",
              "std     519.111540    23.283346    19.523517     7.092566     0.131547\n",
              "min     676.530029    70.000000     7.960000     8.850000     1.039047\n",
              "25%    1239.874969   109.725000    14.380000    15.570000     1.171313\n",
              "50%    1551.434998   120.580002    33.869999    17.268500     1.303296\n",
              "75%    2073.010070   132.840004    37.827501    22.882499     1.369971\n",
              "max    2872.870117   184.589996   117.480003    47.259998     1.598798"
            ]
          },
          "metadata": {
            "tags": []
          },
          "execution_count": 11
        }
      ]
    },
    {
      "cell_type": "code",
      "metadata": {
        "colab": {
          "base_uri": "https://localhost:8080/"
        },
        "id": "XVPstFANFYxt",
        "outputId": "e5443b55-815a-4927-d16e-18cd3fa656bf"
      },
      "source": [
        "# print number and columns\n",
        "gold_data.shape"
      ],
      "execution_count": 12,
      "outputs": [
        {
          "output_type": "execute_result",
          "data": {
            "text/plain": [
              "(2290, 6)"
            ]
          },
          "metadata": {
            "tags": []
          },
          "execution_count": 12
        }
      ]
    },
    {
      "cell_type": "code",
      "metadata": {
        "colab": {
          "base_uri": "https://localhost:8080/"
        },
        "id": "0_9G0BlxGIYO",
        "outputId": "2e4e3f5a-8540-4217-a2c0-4bf07ca088a1"
      },
      "source": [
        "# getting some basic informations od the data\n",
        "gold_data.info()"
      ],
      "execution_count": 14,
      "outputs": [
        {
          "output_type": "stream",
          "text": [
            "<class 'pandas.core.frame.DataFrame'>\n",
            "RangeIndex: 2290 entries, 0 to 2289\n",
            "Data columns (total 6 columns):\n",
            " #   Column   Non-Null Count  Dtype  \n",
            "---  ------   --------------  -----  \n",
            " 0   Date     2290 non-null   object \n",
            " 1   SPX      2290 non-null   float64\n",
            " 2   GLD      2290 non-null   float64\n",
            " 3   USO      2290 non-null   float64\n",
            " 4   SLV      2290 non-null   float64\n",
            " 5   EUR/USD  2290 non-null   float64\n",
            "dtypes: float64(5), object(1)\n",
            "memory usage: 107.5+ KB\n"
          ],
          "name": "stdout"
        }
      ]
    },
    {
      "cell_type": "code",
      "metadata": {
        "colab": {
          "base_uri": "https://localhost:8080/"
        },
        "id": "1Idc199dGTBV",
        "outputId": "399ebd62-d22d-41c1-e650-4e09910fdc62"
      },
      "source": [
        "# Checking the number of the missing value\n",
        "gold_data.isnull().sum()"
      ],
      "execution_count": 16,
      "outputs": [
        {
          "output_type": "execute_result",
          "data": {
            "text/plain": [
              "Date       0\n",
              "SPX        0\n",
              "GLD        0\n",
              "USO        0\n",
              "SLV        0\n",
              "EUR/USD    0\n",
              "dtype: int64"
            ]
          },
          "metadata": {
            "tags": []
          },
          "execution_count": 16
        }
      ]
    },
    {
      "cell_type": "markdown",
      "metadata": {
        "id": "43vkBcTRHZTI"
      },
      "source": [
        "## **Correlation :**\n",
        "\n",
        "for the clearly information about correlation i'll drop the link from wikipedia :\n",
        "\n",
        "https://en.wikipedia.org/wiki/Correlation"
      ]
    },
    {
      "cell_type": "code",
      "metadata": {
        "id": "HVtjj0ArGkvn"
      },
      "source": [
        "correlation = gold_data.corr()"
      ],
      "execution_count": 17,
      "outputs": []
    },
    {
      "cell_type": "markdown",
      "metadata": {
        "id": "xxW96fe7KKqq"
      },
      "source": [
        "## **Visualize The Data**\n",
        "\n",
        "Visualize the data with heatmap to understand the correlation from this data."
      ]
    },
    {
      "cell_type": "code",
      "metadata": {
        "colab": {
          "base_uri": "https://localhost:8080/",
          "height": 487
        },
        "id": "QlEECTkLH01g",
        "outputId": "4001b7a5-8573-4e61-af61-9a9735b47197"
      },
      "source": [
        "plt.figure(figsize=(8, 8))\n",
        "sns.heatmap(\n",
        "    correlation, cbar=True, square=True, \n",
        "    annot=True, annot_kws={'size': 8}, cmap='Blues')"
      ],
      "execution_count": 22,
      "outputs": [
        {
          "output_type": "execute_result",
          "data": {
            "text/plain": [
              "<matplotlib.axes._subplots.AxesSubplot at 0x7f5b9a90cfd0>"
            ]
          },
          "metadata": {
            "tags": []
          },
          "execution_count": 22
        },
        {
          "output_type": "display_data",
          "data": {
            "image/png": "[encoded data removed]",
            "text/plain": [
              "<Figure size 576x576 with 2 Axes>"
            ]
          },
          "metadata": {
            "tags": [],
            "needs_background": "light"
          }
        }
      ]
    },
    {
      "cell_type": "code",
      "metadata": {
        "colab": {
          "base_uri": "https://localhost:8080/"
        },
        "id": "6XvIkXuqIdvF",
        "outputId": "fe08f0e7-2cea-4c54-e8c8-6254991a27cf"
      },
      "source": [
        "# correlation values of GOLD\n",
        "print(correlation['GLD'])"
      ],
      "execution_count": 23,
      "outputs": [
        {
          "output_type": "stream",
          "text": [
            "SPX        0.049345\n",
            "GLD        1.000000\n",
            "USO       -0.186360\n",
            "SLV        0.866632\n",
            "EUR/USD   -0.024375\n",
            "Name: GLD, dtype: float64\n"
          ],
          "name": "stdout"
        }
      ]
    },
    {
      "cell_type": "code",
      "metadata": {
        "colab": {
          "base_uri": "https://localhost:8080/",
          "height": 354
        },
        "id": "bKCNSma49hp_",
        "outputId": "05052a54-702c-47bf-82cc-87d170d796b4"
      },
      "source": [
        "# checking the distribution of the gold prices\n",
        "sns.distplot(gold_data['GLD'], color='blue')"
      ],
      "execution_count": 25,
      "outputs": [
        {
          "output_type": "stream",
          "text": [
            "/usr/local/lib/python3.7/dist-packages/seaborn/distributions.py:2557: FutureWarning: `distplot` is a deprecated function and will be removed in a future version. Please adapt your code to use either `displot` (a figure-level function with similar flexibility) or `histplot` (an axes-level function for histograms).\n",
            "  warnings.warn(msg, FutureWarning)\n"
          ],
          "name": "stderr"
        },
        {
          "output_type": "execute_result",
          "data": {
            "text/plain": [
              "<matplotlib.axes._subplots.AxesSubplot at 0x7f5b960e8b90>"
            ]
          },
          "metadata": {
            "tags": []
          },
          "execution_count": 25
        },
        {
          "output_type": "display_data",
          "data": {
            "image/png": "[encoded data removed]",
            "text/plain": [
              "<Figure size 432x288 with 1 Axes>"
            ]
          },
          "metadata": {
            "tags": [],
            "needs_background": "light"
          }
        }
      ]
    },
    {
      "cell_type": "markdown",
      "metadata": {
        "id": "OwJfxWSw-VdI"
      },
      "source": [
        "## **Splitting the Features and The Target**\n",
        "\n",
        "Split the data to 2 variable X (Features) and y (Target)."
      ]
    },
    {
      "cell_type": "code",
      "metadata": {
        "id": "HRSOsK_L9wPe"
      },
      "source": [
        "X = gold_data.drop(['Date', 'GLD'], axis=1)\n",
        "y = gold_data['GLD']"
      ],
      "execution_count": 26,
      "outputs": []
    },
    {
      "cell_type": "code",
      "metadata": {
        "colab": {
          "base_uri": "https://localhost:8080/"
        },
        "id": "dC3Rfub5-1VT",
        "outputId": "3343b590-67ef-4116-a0ce-c69203a1af18"
      },
      "source": [
        "print(X)"
      ],
      "execution_count": 27,
      "outputs": [
        {
          "output_type": "stream",
          "text": [
            "              SPX        USO      SLV   EUR/USD\n",
            "0     1447.160034  78.470001  15.1800  1.471692\n",
            "1     1447.160034  78.370003  15.2850  1.474491\n",
            "2     1411.630005  77.309998  15.1670  1.475492\n",
            "3     1416.180054  75.500000  15.0530  1.468299\n",
            "4     1390.189941  76.059998  15.5900  1.557099\n",
            "...           ...        ...      ...       ...\n",
            "2285  2671.919922  14.060000  15.5100  1.186789\n",
            "2286  2697.790039  14.370000  15.5300  1.184722\n",
            "2287  2723.070068  14.410000  15.7400  1.191753\n",
            "2288  2730.129883  14.380000  15.5600  1.193118\n",
            "2289  2725.780029  14.405800  15.4542  1.182033\n",
            "\n",
            "[2290 rows x 4 columns]\n"
          ],
          "name": "stdout"
        }
      ]
    },
    {
      "cell_type": "code",
      "metadata": {
        "colab": {
          "base_uri": "https://localhost:8080/"
        },
        "id": "4lMoV2qX-21d",
        "outputId": "c43639f7-1c9c-4be4-afa5-f59e0dc8a486"
      },
      "source": [
        "print(y)"
      ],
      "execution_count": 28,
      "outputs": [
        {
          "output_type": "stream",
          "text": [
            "0        84.860001\n",
            "1        85.570000\n",
            "2        85.129997\n",
            "3        84.769997\n",
            "4        86.779999\n",
            "           ...    \n",
            "2285    124.589996\n",
            "2286    124.330002\n",
            "2287    125.180000\n",
            "2288    124.489998\n",
            "2289    122.543800\n",
            "Name: GLD, Length: 2290, dtype: float64\n"
          ],
          "name": "stdout"
        }
      ]
    },
    {
      "cell_type": "markdown",
      "metadata": {
        "id": "Q-eJaLs3-_5x"
      },
      "source": [
        "## **Split the Data to Training and Test Data**"
      ]
    },
    {
      "cell_type": "code",
      "metadata": {
        "id": "AvBzf6CB-7tN"
      },
      "source": [
        "X_train, X_test, y_train, y_test = train_test_split(X, y, test_size=0.1, random_state=1) "
      ],
      "execution_count": 29,
      "outputs": []
    },
    {
      "cell_type": "markdown",
      "metadata": {
        "id": "1xUM--ZD_ps4"
      },
      "source": [
        "Model Training, Random Forest Regressor"
      ]
    },
    {
      "cell_type": "code",
      "metadata": {
        "id": "FdBMQjga_nXR"
      },
      "source": [
        "regressor = RandomForestRegressor(n_estimators=100)"
      ],
      "execution_count": 30,
      "outputs": []
    },
    {
      "cell_type": "code",
      "metadata": {
        "colab": {
          "base_uri": "https://localhost:8080/"
        },
        "id": "Y5JMRpUsAMnd",
        "outputId": "824e9d13-f98d-454c-cb58-890989889c92"
      },
      "source": [
        "# training the model\n",
        "regressor.fit(X_train, y_train, sample_weight=None)"
      ],
      "execution_count": 32,
      "outputs": [
        {
          "output_type": "execute_result",
          "data": {
            "text/plain": [
              "RandomForestRegressor(bootstrap=True, ccp_alpha=0.0, criterion='mse',\n",
              "                      max_depth=None, max_features='auto', max_leaf_nodes=None,\n",
              "                      max_samples=None, min_impurity_decrease=0.0,\n",
              "                      min_impurity_split=None, min_samples_leaf=1,\n",
              "                      min_samples_split=2, min_weight_fraction_leaf=0.0,\n",
              "                      n_estimators=100, n_jobs=None, oob_score=False,\n",
              "                      random_state=None, verbose=0, warm_start=False)"
            ]
          },
          "metadata": {
            "tags": []
          },
          "execution_count": 32
        }
      ]
    },
    {
      "cell_type": "markdown",
      "metadata": {
        "id": "VB3A93FCAcHI"
      },
      "source": [
        "## **Model Evaluation**"
      ]
    },
    {
      "cell_type": "code",
      "metadata": {
        "id": "jSqTrJy8AUeF"
      },
      "source": [
        "# predicition on test data\n",
        "test_data_predicition = regressor.predict(X_test)"
      ],
      "execution_count": 33,
      "outputs": []
    },
    {
      "cell_type": "code",
      "metadata": {
        "colab": {
          "base_uri": "https://localhost:8080/"
        },
        "id": "LMHEvgORApXK",
        "outputId": "96487720-7f16-4693-d3fc-ffb856181ea2"
      },
      "source": [
        "print(test_data_predicition)"
      ],
      "execution_count": 34,
      "outputs": [
        {
          "output_type": "stream",
          "text": [
            "[113.25780035 147.7379011  140.82389776 112.69370187 113.63479934\n",
            "  95.45779942 111.62469977  93.44189974 120.85090015 127.3147\n",
            " 147.89439977 120.51249916 119.24760024  88.07060014  96.01820025\n",
            "  92.76619855 116.38250062  88.83799897 125.39170115 114.62490014\n",
            " 119.19589945 153.0937017  122.63319791 120.05779977 171.09999902\n",
            " 108.16279848 120.739601    87.19459887  87.8336004   88.06599885\n",
            " 121.72500015 154.42180166 149.8904984  126.57459979 126.43690034\n",
            "  90.93499893 158.092699   121.34500182 106.76230072 144.11929639\n",
            "  92.64059963 127.60250124 117.50610126 152.67920115 119.21089936\n",
            "  91.42340203  77.81100044 120.18360153 132.64910034 119.01799927\n",
            " 127.32840073 165.93150035 153.56540024  92.56699992 149.31780019\n",
            " 151.89179867 113.46950138 113.0710004   86.95479873 127.61470004\n",
            " 125.11210107 151.88490233 114.42319974 110.63619989 160.93449729\n",
            " 117.26779861 108.44780101 131.90590001 132.90350116 125.4771004\n",
            " 117.04209978 149.18330208 156.0492999  168.50129528 110.16550085\n",
            " 140.93929692 102.16949907 113.83740134 119.75870064 124.04699912\n",
            " 117.71790082  92.25860024 141.56079812 107.16340029 125.42720004\n",
            "  92.42119873 131.59600385 125.72350023 125.9075001  126.02869903\n",
            " 113.36019985 120.54139971 161.17590171  80.63989979 117.55800101\n",
            " 115.27010015 135.36200075 109.24210033 109.07149941 126.29390095\n",
            " 127.63909988 110.11259859 160.21529923 123.1945999  120.76820033\n",
            " 128.44909852 147.12879777  92.35219839 125.2062002  119.63680037\n",
            " 108.48879926 134.84009942 120.88490008  97.87169777 115.61160057\n",
            " 109.97809786 126.06200033 113.96560122 107.14490046 174.29149905\n",
            "  96.85900208 125.39309927 111.9210989  112.53769968 124.67739938\n",
            " 168.09149834 114.66910013 135.03269632 125.72860023 163.35899971\n",
            " 120.48509991  89.07089921 127.90770009 127.92670025 115.1975002\n",
            " 122.4513996  126.43150013 167.06399817 112.5676015  119.72730004\n",
            " 126.16540131 127.12259951 168.07289916 160.62100036 170.55470169\n",
            " 121.52700074 121.59400075 163.86730033  98.13829928  80.37169893\n",
            " 115.90100093 112.73790057 118.45960063 113.37620064 120.13769989\n",
            " 119.92980082 104.43189918 170.54640121 144.38919549 167.17629797\n",
            " 117.39800163 125.8298012  126.1965999  167.16669784 117.4826013\n",
            " 133.32800199 135.57350048 132.64380249 114.16700093 133.06020194\n",
            " 153.95810068 137.09779823  96.28910135 108.29990108 124.73780078\n",
            " 148.03509982  98.43310012 131.64930147 104.38100031 121.2538982\n",
            " 151.76240113 109.70520204 127.32960012 127.40939754 113.27250029\n",
            " 140.06300237 151.89300079 165.4062005  119.68370004 104.72850184\n",
            " 115.04600015 114.52320131 107.08359981 124.00490057 153.91650237\n",
            " 128.70550113 126.96339945 148.2241974  142.2337999   83.7870992\n",
            " 124.66199944 126.03950016 124.70360186 105.30080035 170.17340268\n",
            " 176.13519737  76.44950095 119.36840075  93.08560061 118.32949985\n",
            " 125.5718009  117.48110034 123.85780003 154.70730045 152.70460072\n",
            "  91.59000104 131.6875031  108.87809886 110.25759909 109.22099974\n",
            " 168.50509564 128.82379843 102.42510034 124.15419933 111.15500023\n",
            "  90.002199   147.41039901 121.2705999  119.45150061]\n"
          ],
          "name": "stdout"
        }
      ]
    },
    {
      "cell_type": "markdown",
      "metadata": {
        "id": "f2zziexKK1Tp"
      },
      "source": [
        "## **Checking the R-Squared Error**\n",
        "\n",
        "R-squared (R2) is a statistical measure that represents the proportion of the variance for a dependent variable that's explained by an independent variable or variables in a regression model."
      ]
    },
    {
      "cell_type": "code",
      "metadata": {
        "colab": {
          "base_uri": "https://localhost:8080/"
        },
        "id": "WP579HzGAsSN",
        "outputId": "016ee4c0-2358-446f-ffba-773bdf343705"
      },
      "source": [
        "# R Squared Error\n",
        "error_scored = metrics.r2_score(y_test, test_data_predicition)\n",
        "print(f'R-Squared Error : {error_scored}')"
      ],
      "execution_count": 35,
      "outputs": [
        {
          "output_type": "stream",
          "text": [
            "R-Squared Error : 0.9923033079300797\n"
          ],
          "name": "stdout"
        }
      ]
    },
    {
      "cell_type": "markdown",
      "metadata": {
        "id": "unGSxf4gCA_U"
      },
      "source": [
        "## **Compared the Actual Value and the Predicted Value in Plot**"
      ]
    },
    {
      "cell_type": "code",
      "metadata": {
        "id": "A2j7i9kPB0ta"
      },
      "source": [
        "# we need to change the y_test to list before plotting\n",
        "y_test = list(y_test)"
      ],
      "execution_count": 38,
      "outputs": []
    },
    {
      "cell_type": "code",
      "metadata": {
        "colab": {
          "base_uri": "https://localhost:8080/",
          "height": 297
        },
        "id": "Cw_mYZ99COsE",
        "outputId": "3ce2793c-851a-43a1-a7ed-0d431207aeb5"
      },
      "source": [
        "plt.subplot(2, 1, 1)\n",
        "plt.plot(y_test, color='green', label='Actual Value')\n",
        "plt.title('Actual Value(green) & Predicted Value(blue)')\n",
        "plt.ylabel('$Gold$ $Price$')\n",
        "\n",
        "plt.subplot(2, 1, 2)\n",
        "plt.plot(test_data_predicition, color='blue', label='Predicted Value')\n",
        "plt.ylabel('$Gold$ $Price$')\n",
        "plt.xlabel('$Number$ $Of$ $Value$')\n",
        "plt.show()"
      ],
      "execution_count": 53,
      "outputs": [
        {
          "output_type": "display_data",
          "data": {
            "image/png": "[encoded data removed]",
            "text/plain": [
              "<Figure size 432x288 with 2 Axes>"
            ]
          },
          "metadata": {
            "tags": [],
            "needs_background": "light"
          }
        }
      ]
    },
    {
      "cell_type": "code",
      "metadata": {
        "colab": {
          "base_uri": "https://localhost:8080/",
          "height": 295
        },
        "id": "Fr6vYdtIDkeO",
        "outputId": "f0628f3a-6b5f-451f-ec0d-7acb7abb18b8"
      },
      "source": [
        "plt.plot(y_test, color='green', label='Actual Value')\n",
        "plt.plot(test_data_predicition, color='blue', label='Predicted Value')\n",
        "plt.title('Actual vs Predicted Price')\n",
        "plt.xlabel('Number of Values')\n",
        "plt.ylabel('Gold Price')\n",
        "plt.legend()\n",
        "plt.show()"
      ],
      "execution_count": 54,
      "outputs": [
        {
          "output_type": "display_data",
          "data": {
            "image/png": "[encoded data removed]",
            "text/plain": [
              "<Figure size 432x288 with 1 Axes>"
            ]
          },
          "metadata": {
            "tags": [],
            "needs_background": "light"
          }
        }
      ]
    },
    {
      "cell_type": "markdown",
      "metadata": {
        "id": "OueSxNU69tIH"
      },
      "source": [
        "## **And Last, Predict The Prices Of Gold**"
      ]
    },
    {
      "cell_type": "code",
      "metadata": {
        "colab": {
          "base_uri": "https://localhost:8080/"
        },
        "id": "4IJhpsGEHpS_",
        "outputId": "91c55cad-8e4c-407e-88de-a26092daf6dc"
      },
      "source": [
        "input_data = () # SPX, USO,  SLV,  EUR/USD\n",
        "\n",
        "# Changing the data type to numpy array\n",
        "change_input = np.asarray(input_data)\n",
        "\n",
        "# Reshape the numpy array as we are predicting for one instance\n",
        "reshape_array = change_input.reshape(1, -1)\n",
        "\n",
        "prediction = regressor.predict(reshape_array)\n",
        "print(prediction)"
      ],
      "execution_count": 55,
      "outputs": [
        {
          "output_type": "stream",
          "text": [
            "[85.47539953]\n"
          ],
          "name": "stdout"
        }
      ]
    }
  ]
}